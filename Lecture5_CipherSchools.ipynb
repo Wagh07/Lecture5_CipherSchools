{
  "nbformat": 4,
  "nbformat_minor": 0,
  "metadata": {
    "colab": {
      "provenance": []
    },
    "kernelspec": {
      "name": "python3",
      "display_name": "Python 3"
    },
    "language_info": {
      "name": "python"
    }
  },
  "cells": [
    {
      "cell_type": "code",
      "source": [
        "# Complex Datatype\n",
        "\n",
        "c=2+6j\n",
        "print(type(c))\n",
        "\n",
        "print(c+5)\n"
      ],
      "metadata": {
        "colab": {
          "base_uri": "https://localhost:8080/"
        },
        "id": "U0Y86mDrALTB",
        "outputId": "3fd939d2-fa36-44dc-d1d6-1c00a6d09dfd"
      },
      "execution_count": 22,
      "outputs": [
        {
          "output_type": "stream",
          "name": "stdout",
          "text": [
            "<class 'complex'>\n",
            "(7+6j)\n"
          ]
        }
      ]
    },
    {
      "cell_type": "code",
      "source": [
        "# Float Datatype\n",
        "\n",
        "f=1.2E34\n",
        "print(type(f))\n"
      ],
      "metadata": {
        "colab": {
          "base_uri": "https://localhost:8080/"
        },
        "id": "B8--0iWsAHKB",
        "outputId": "589e6c30-6235-4018-ff56-399b52cb3e63"
      },
      "execution_count": 21,
      "outputs": [
        {
          "output_type": "stream",
          "name": "stdout",
          "text": [
            "<class 'float'>\n"
          ]
        }
      ]
    },
    {
      "cell_type": "code",
      "source": [
        "# Boolean\n",
        "\n",
        "a = True\n",
        "print(type(a))\n",
        "\n",
        "b= False\n",
        "print(type(b))\n"
      ],
      "metadata": {
        "colab": {
          "base_uri": "https://localhost:8080/"
        },
        "id": "hAGQdCgYA_l6",
        "outputId": "e581b9ca-d391-4327-e13d-d2722cf57c1d"
      },
      "execution_count": 24,
      "outputs": [
        {
          "output_type": "stream",
          "name": "stdout",
          "text": [
            "<class 'bool'>\n",
            "<class 'bool'>\n"
          ]
        }
      ]
    },
    {
      "cell_type": "code",
      "source": [
        "\n",
        "# 3  Types of Comments ... This is single line\n",
        "\n",
        "''' this is a multiline\n",
        "comment\n",
        "'''\n",
        "\n",
        "\"\"\"\n",
        "this is also another\n",
        "syntax for\n",
        "multiline comment\n",
        "\"\"\""
      ],
      "metadata": {
        "id": "M1fa8JHUBUsi"
      },
      "execution_count": null,
      "outputs": []
    }
  ]
}